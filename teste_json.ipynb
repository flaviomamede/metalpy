{
 "cells": [
  {
   "cell_type": "code",
   "execution_count": 1,
   "metadata": {},
   "outputs": [],
   "source": [
    "from metalpy.perfis import TuboCir\n",
    "from metalpy.material import Aco"
   ]
  },
  {
   "cell_type": "code",
   "execution_count": 2,
   "metadata": {},
   "outputs": [
    {
     "name": "stderr",
     "output_type": "stream",
     "text": [
      "/home/furnas/Documents/EEEPC/PROJETO TORRES/metalpy-main/metalpy/perfis/perfis.py:1221: FutureWarning: Calling float on a single element Series is deprecated and will raise a TypeError in the future. Use float(ser.iloc[0]) instead\n",
      "  self.D = float(self._dados_perfil['D'])\n",
      "/home/furnas/Documents/EEEPC/PROJETO TORRES/metalpy-main/metalpy/perfis/perfis.py:1222: FutureWarning: Calling float on a single element Series is deprecated and will raise a TypeError in the future. Use float(ser.iloc[0]) instead\n",
      "  self.t = float(self._dados_perfil['tdes'])\n",
      "/home/furnas/Documents/EEEPC/PROJETO TORRES/metalpy-main/metalpy/perfis/perfis.py:1223: FutureWarning: Calling float on a single element Series is deprecated and will raise a TypeError in the future. Use float(ser.iloc[0]) instead\n",
      "  self.esb = float(self._dados_perfil['D/t'])\n",
      "/home/furnas/Documents/EEEPC/PROJETO TORRES/metalpy-main/metalpy/perfis/perfis.py:1226: FutureWarning: Calling float on a single element Series is deprecated and will raise a TypeError in the future. Use float(ser.iloc[0]) instead\n",
      "  self.Wt = float(self._dados_perfil['Wt']) * 1E3\n",
      "/home/furnas/Documents/EEEPC/PROJETO TORRES/metalpy-main/metalpy/perfis/perfis.py:1240: FutureWarning: Calling float on a single element Series is deprecated and will raise a TypeError in the future. Use float(ser.iloc[0]) instead\n",
      "  A = float(self._dados_perfil['A'])\n",
      "/home/furnas/Documents/EEEPC/PROJETO TORRES/metalpy-main/metalpy/perfis/perfis.py:1241: FutureWarning: Calling float on a single element Series is deprecated and will raise a TypeError in the future. Use float(ser.iloc[0]) instead\n",
      "  Ix = float(self._dados_perfil['Ix']) * 1E6\n",
      "/home/furnas/Documents/EEEPC/PROJETO TORRES/metalpy-main/metalpy/perfis/perfis.py:1242: FutureWarning: Calling float on a single element Series is deprecated and will raise a TypeError in the future. Use float(ser.iloc[0]) instead\n",
      "  Iy = float(self._dados_perfil['Iy']) * 1E6\n",
      "/home/furnas/Documents/EEEPC/PROJETO TORRES/metalpy-main/metalpy/perfis/perfis.py:1243: FutureWarning: Calling float on a single element Series is deprecated and will raise a TypeError in the future. Use float(ser.iloc[0]) instead\n",
      "  J = float(self._dados_perfil['J']) * 1E3\n",
      "/home/furnas/Documents/EEEPC/PROJETO TORRES/metalpy-main/metalpy/perfis/perfis.py:1244: FutureWarning: Calling float on a single element Series is deprecated and will raise a TypeError in the future. Use float(ser.iloc[0]) instead\n",
      "  Wx = float(self._dados_perfil['Wx']) * 1E3\n",
      "/home/furnas/Documents/EEEPC/PROJETO TORRES/metalpy-main/metalpy/perfis/perfis.py:1245: FutureWarning: Calling float on a single element Series is deprecated and will raise a TypeError in the future. Use float(ser.iloc[0]) instead\n",
      "  Wy = float(self._dados_perfil['Wy']) * 1E3\n",
      "/home/furnas/Documents/EEEPC/PROJETO TORRES/metalpy-main/metalpy/perfis/perfis.py:1246: FutureWarning: Calling float on a single element Series is deprecated and will raise a TypeError in the future. Use float(ser.iloc[0]) instead\n",
      "  Zx = float(self._dados_perfil['Zx']) * 1E3\n",
      "/home/furnas/Documents/EEEPC/PROJETO TORRES/metalpy-main/metalpy/perfis/perfis.py:1247: FutureWarning: Calling float on a single element Series is deprecated and will raise a TypeError in the future. Use float(ser.iloc[0]) instead\n",
      "  Zy = float(self._dados_perfil['Zy']) * 1E3\n"
     ]
    }
   ],
   "source": [
    "aco = Aco(20000, 0.3, 35, 45, 0.6)\n",
    "tubo = TuboCir('TC88.9X8', aco, und = 'cm')"
   ]
  },
  {
   "cell_type": "code",
   "execution_count": 3,
   "metadata": {},
   "outputs": [
    {
     "data": {
      "text/plain": [
       "propriedades_perfil(A=20.3, Ix=168.0, Iy=168.0, J=336.0, Wxs=37.8, Wxi=37.8, Wys=37.8, Wyi=37.8, Zx=52.5, Zy=52.5, Awx=10.15, Awy=10.15, xo=0, yo=0, Cw=0.0)"
      ]
     },
     "execution_count": 3,
     "metadata": {},
     "output_type": "execute_result"
    }
   ],
   "source": [
    "tubo.prop()"
   ]
  },
  {
   "cell_type": "code",
   "execution_count": 4,
   "metadata": {},
   "outputs": [
    {
     "data": {
      "text/plain": [
       "propriedades_perfil(A=20.3, Ix=168.0, Iy=168.0, J=336.0, Wxs=37.8, Wxi=37.8, Wys=37.8, Wyi=37.8, Zx=52.5, Zy=52.5, Awx=10.15, Awy=10.15, xo=0, yo=0, Cw=0.0)"
      ]
     },
     "execution_count": 4,
     "metadata": {},
     "output_type": "execute_result"
    }
   ],
   "source": [
    "tubo.prop()"
   ]
  },
  {
   "cell_type": "code",
   "execution_count": 5,
   "metadata": {},
   "outputs": [],
   "source": [
    "dir_path = \"metalpy/perfis/\"\n",
    "#dir_path = \"/caminho/absoluto/para/metalpy/perfis/\"\n",
    "\n",
    "\n",
    "try:\n",
    "    \n",
    "    import pandas as pd\n",
    "\n",
    "    perfis_AISC = pd.read_excel( dir_path + 'db-aisc-perfis.xlsx')\n",
    "    perfis_vallourec_ret = pd.read_excel( dir_path + 'db-vallourec-perfis.xlsx')\n",
    "    perfis_vallourec_cir = pd.read_excel( dir_path + 'db-vallourec-perfis.xlsx', 1)\n",
    "\n",
    "    db_perfis = pd.concat([perfis_AISC, perfis_vallourec_cir, perfis_vallourec_ret], sort=False)\n",
    "\n",
    "except ModuleNotFoundError:\n",
    "\n",
    "    import json as js\n",
    "\n",
    "    with open( dir_path + \"db-aisc-perfis.json\") as file:\n",
    "        perfis_AISC = js.load(file)\n",
    "\n",
    "    with open( dir_path  + \"db-vallourec-perfis.json\") as file:\n",
    "        perfis_vallourec = js.load(file)\n",
    "\n",
    "        perfis_vallourec_ret = perfis_vallourec[\"Tubos retangulares\"]\n",
    "        perfis_vallourec_cir = perfis_vallourec[\"Tubos circulares\"]\n",
    "    \n",
    "    db_perfis = perfis_AISC + perfis_vallourec_ret + perfis_vallourec_cir\n",
    "\n",
    "    def encontrar_perfil(nome):\n",
    "        perfil = None\n",
    "        for p in db_perfis:\n",
    "            if p['Nomes'] == nome:\n",
    "                perfil = p\n",
    "                break\n",
    "            else:\n",
    "                pass\n",
    "        return perfil"
   ]
  },
  {
   "cell_type": "code",
   "execution_count": 6,
   "metadata": {},
   "outputs": [
    {
     "data": {
      "text/plain": [
       "1"
      ]
     },
     "execution_count": 6,
     "metadata": {},
     "output_type": "execute_result"
    }
   ],
   "source": [
    "len(db_perfis[db_perfis['Nomes'] == 'TC88.9X8'])"
   ]
  },
  {
   "cell_type": "code",
   "execution_count": 7,
   "metadata": {},
   "outputs": [
    {
     "ename": "NameError",
     "evalue": "name 'encontrar_perfil' is not defined",
     "output_type": "error",
     "traceback": [
      "\u001b[0;31m---------------------------------------------------------------------------\u001b[0m",
      "\u001b[0;31mNameError\u001b[0m                                 Traceback (most recent call last)",
      "Cell \u001b[0;32mIn[7], line 1\u001b[0m\n\u001b[0;32m----> 1\u001b[0m perfil \u001b[38;5;241m=\u001b[39m \u001b[43mencontrar_perfil\u001b[49m(\u001b[38;5;124m'\u001b[39m\u001b[38;5;124mTC88.9X8\u001b[39m\u001b[38;5;124m'\u001b[39m)\n",
      "\u001b[0;31mNameError\u001b[0m: name 'encontrar_perfil' is not defined"
     ]
    }
   ],
   "source": [
    "perfil = encontrar_perfil('TC88.9X8')"
   ]
  },
  {
   "cell_type": "code",
   "execution_count": null,
   "metadata": {},
   "outputs": [],
   "source": [
    "perfil"
   ]
  },
  {
   "cell_type": "code",
   "execution_count": null,
   "metadata": {},
   "outputs": [],
   "source": []
  }
 ],
 "metadata": {
  "kernelspec": {
   "display_name": "Python 3.8.4rc1 ('virt': venv)",
   "language": "python",
   "name": "python3"
  },
  "language_info": {
   "codemirror_mode": {
    "name": "ipython",
    "version": 3
   },
   "file_extension": ".py",
   "mimetype": "text/x-python",
   "name": "python",
   "nbconvert_exporter": "python",
   "pygments_lexer": "ipython3",
   "version": "3.10.12"
  },
  "orig_nbformat": 4,
  "vscode": {
   "interpreter": {
    "hash": "6a723a01e91fc3ffc55a589ff0dbeb165c9adac30ad49a0dbdc9730498a55d74"
   }
  }
 },
 "nbformat": 4,
 "nbformat_minor": 2
}
